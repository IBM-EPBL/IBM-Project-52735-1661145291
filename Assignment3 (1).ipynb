{
  "nbformat": 4,
  "nbformat_minor": 0,
  "metadata": {
    "colab": {
      "provenance": [],
      "collapsed_sections": []
    },
    "kernelspec": {
      "name": "python3",
      "display_name": "Python 3"
    },
    "language_info": {
      "name": "python"
    }
  },
  "cells": [
    {
      "cell_type": "markdown",
      "source": [
        "2.Image  Augmentation\n",
        "3.Createmodel\n",
        "\n"
      ],
      "metadata": {
        "id": "8SvG_xmw1G1u"
      }
    },
    {
      "cell_type": "code",
      "source": [
        "from tensorflow.keras.preprocessing.image import ImageDataGenerator"
      ],
      "metadata": {
        "id": "LQBpfQjf1KPe"
      },
      "execution_count": 1,
      "outputs": []
    },
    {
      "cell_type": "code",
      "source": [
        "train_datagen = ImageDataGenerator(rescale=1./255,\n",
        "                                   zoom_range=0.2,\n",
        "                                   horizontal_flip=True)"
      ],
      "metadata": {
        "id": "WdmdbPtyTdd2"
      },
      "execution_count": 2,
      "outputs": []
    },
    {
      "cell_type": "code",
      "source": [
        "test_datagen = ImageDataGenerator(rescale=1./255)"
      ],
      "metadata": {
        "id": "H4tWQZpmUFu-"
      },
      "execution_count": 3,
      "outputs": []
    },
    {
      "cell_type": "code",
      "source": [
        "xtrain = train_datagen.flow_from_directory('/content/drive/MyDrive/Classroom/flowers',\n",
        "                                           target_size=(64,64),\n",
        "                                           class_mode='categorical',\n",
        "                                           batch_size=10)"
      ],
      "metadata": {
        "colab": {
          "base_uri": "https://localhost:8080/"
        },
        "id": "Y7gbVhZBVRF0",
        "outputId": "573eb3d6-e7c3-41b2-fb04-6d1537373d36"
      },
      "execution_count": 5,
      "outputs": [
        {
          "output_type": "stream",
          "name": "stdout",
          "text": [
            "Found 3160 images belonging to 5 classes.\n"
          ]
        }
      ]
    },
    {
      "cell_type": "code",
      "source": [
        "xtest = train_datagen.flow_from_directory('/content/drive/MyDrive/Classroom/flowers',\n",
        "                                           target_size=(64,64),\n",
        "                                           class_mode='categorical',\n",
        "                                           batch_size=10)"
      ],
      "metadata": {
        "colab": {
          "base_uri": "https://localhost:8080/"
        },
        "outputId": "6119b245-f479-46dd-aa9f-c49fb25b63d4",
        "id": "VANPFB9GTjBw"
      },
      "execution_count": 6,
      "outputs": [
        {
          "output_type": "stream",
          "name": "stdout",
          "text": [
            "Found 3160 images belonging to 5 classes.\n"
          ]
        }
      ]
    },
    {
      "cell_type": "code",
      "source": [
        "from tensorflow.keras.models import Sequential\n",
        "from tensorflow.keras.layers import Convolution2D,MaxPooling2D,Flatten,Dense"
      ],
      "metadata": {
        "id": "FtRKhJ5SZIav"
      },
      "execution_count": 7,
      "outputs": []
    },
    {
      "cell_type": "markdown",
      "source": [
        "4.Add Layers"
      ],
      "metadata": {
        "id": "EgE8tYm21j4Q"
      }
    },
    {
      "cell_type": "code",
      "source": [
        "model = Sequential()\n",
        "model.add(Convolution2D(32,(3,3),activation='relu',input_shape=(64,64,3))) \n",
        "model.add(MaxPooling2D(pool_size=(2,2))) \n",
        "model.add(Flatten()) \n",
        "model.add(Dense(300,activation='relu'))\n",
        "model.add(Dense(150,activation='relu'))\n",
        "model.add(Dense(4,activation='softmax')) "
      ],
      "metadata": {
        "id": "9mo3PnKic8DT"
      },
      "execution_count": 14,
      "outputs": []
    },
    {
      "cell_type": "markdown",
      "source": [
        "5.Compile the model"
      ],
      "metadata": {
        "id": "vsFlCUuv1uX1"
      }
    },
    {
      "cell_type": "code",
      "source": [
        "model.compile(optimizer='adam',loss='categorical_crossentropy',metrics=['accuracy'])"
      ],
      "metadata": {
        "id": "5RoaxAhpgFHM"
      },
      "execution_count": 16,
      "outputs": []
    },
    {
      "cell_type": "markdown",
      "source": [
        "6.Fit the model"
      ],
      "metadata": {
        "id": "E8H-SsqO5a2Q"
      }
    },
    {
      "cell_type": "code",
      "source": [
        "from keras.callbacks import EarlyStopping,ReduceLROnPlateau"
      ],
      "metadata": {
        "id": "xT-8tKBrUEcZ"
      },
      "execution_count": 8,
      "outputs": []
    },
    {
      "cell_type": "code",
      "source": [
        "early_stopping=EarlyStopping(monitor='val_accuracy',\n",
        "                             patience=5)\n",
        "reduce_lr=ReduceLROnPlateau(monitor='val_accuracy',\n",
        "                            patience=5,\n",
        "                            factor=0,min_lr=0.00001)\n",
        "callback= [reduce_lr,early_stopping] "
      ],
      "metadata": {
        "id": "0eUipagKUX69"
      },
      "execution_count": 12,
      "outputs": []
    },
    {
      "cell_type": "code",
      "source": [
        "model.fit_generator(xtrain,\n",
        "                    steps_per_epoch=len(xtrain),\n",
        "                    epochs=10,\n",
        "                    validation_data=xtest,\n",
        "                    validation_steps=len(xtest))"
      ],
      "metadata": {
        "colab": {
          "base_uri": "https://localhost:8080/"
        },
        "id": "uoXy9JNbgnKU",
        "outputId": "24d04e62-9f6d-4ab0-c03c-871774b04553"
      },
      "execution_count": null,
      "outputs": [
        {
          "output_type": "stream",
          "name": "stderr",
          "text": [
            "/usr/local/lib/python3.7/dist-packages/ipykernel_launcher.py:7: UserWarning: `Model.fit_generator` is deprecated and will be removed in a future version. Please use `Model.fit`, which supports generators.\n",
            "  import sys\n"
          ]
        },
        {
          "output_type": "stream",
          "name": "stdout",
          "text": [
            "Epoch 1/10\n",
            "13/13 [==============================] - 17s 483ms/step - loss: 2.8257 - accuracy: 0.3021 - val_loss: 1.3794 - val_accuracy: 0.2423\n",
            "Epoch 2/10\n",
            "13/13 [==============================] - 6s 471ms/step - loss: 1.2803 - accuracy: 0.4515 - val_loss: 1.2042 - val_accuracy: 0.4939\n",
            "Epoch 3/10\n",
            "13/13 [==============================] - 6s 455ms/step - loss: 1.1233 - accuracy: 0.5703 - val_loss: 0.9858 - val_accuracy: 0.6104\n",
            "Epoch 4/10\n",
            "13/13 [==============================] - 6s 455ms/step - loss: 0.9527 - accuracy: 0.6357 - val_loss: 0.7862 - val_accuracy: 0.7270\n",
            "Epoch 5/10\n",
            "13/13 [==============================] - 6s 454ms/step - loss: 0.8818 - accuracy: 0.6470 - val_loss: 0.7306 - val_accuracy: 0.7362\n",
            "Epoch 6/10\n",
            "13/13 [==============================] - 6s 464ms/step - loss: 0.7774 - accuracy: 0.6922 - val_loss: 0.7415 - val_accuracy: 0.6902\n",
            "Epoch 7/10\n",
            "13/13 [==============================] - 6s 456ms/step - loss: 0.7191 - accuracy: 0.7068 - val_loss: 0.6056 - val_accuracy: 0.7914\n",
            "Epoch 8/10\n",
            "13/13 [==============================] - 6s 455ms/step - loss: 0.6875 - accuracy: 0.7367 - val_loss: 0.7401 - val_accuracy: 0.7178\n",
            "Epoch 9/10\n",
            "13/13 [==============================] - 6s 462ms/step - loss: 0.6907 - accuracy: 0.7407 - val_loss: 0.5864 - val_accuracy: 0.8006\n",
            "Epoch 10/10\n",
            "13/13 [==============================] - 6s 496ms/step - loss: 0.6405 - accuracy: 0.7472 - val_loss: 0.7157 - val_accuracy: 0.7577\n"
          ]
        },
        {
          "output_type": "execute_result",
          "data": {
            "text/plain": [
              "<keras.callbacks.History at 0x7f11ea689ed0>"
            ]
          },
          "metadata": {},
          "execution_count": 13
        }
      ]
    },
    {
      "cell_type": "markdown",
      "source": [
        "7.Save the model"
      ],
      "metadata": {
        "id": "PRXsjbjy1C2k"
      }
    },
    {
      "cell_type": "code",
      "source": [
        "model.save('rose.h6')"
      ],
      "metadata": {
        "id": "PRj46wxMhN30"
      },
      "execution_count": null,
      "outputs": []
    },
    {
      "cell_type": "markdown",
      "source": [
        "8.Test the model"
      ],
      "metadata": {
        "id": "OZ2tB34r4e-N"
      }
    },
    {
      "cell_type": "code",
      "source": [
        "import numpy as np\n",
        "from tensorflow.keras.preprocessing import image"
      ],
      "metadata": {
        "id": "HHEOVXQqhtQ0"
      },
      "execution_count": 24,
      "outputs": []
    },
    {
      "cell_type": "code",
      "source": [
        "img = image.load_img('/content/drive/MyDrive/Classroom/flowers/dandelion/10477378514_9ffbcec4cf_m.jpg',target_size=(94,94))"
      ],
      "metadata": {
        "id": "EfBznYqfigu2"
      },
      "execution_count": null,
      "outputs": []
    },
    {
      "cell_type": "code",
      "source": [
        "img"
      ],
      "metadata": {
        "colab": {
          "base_uri": "https://localhost:8080/",
          "height": 111
        },
        "id": "qJpetzZci3Fk",
        "outputId": "e3537931-2b32-4f8e-c301-97873e40741f"
      },
      "execution_count": null,
      "outputs": [
        {
          "output_type": "execute_result",
          "data": {
            "text/plain": [
              "<PIL.Image.Image image mode=RGB size=94x94 at 0x7FC48B024990>"
            ],
            "image/png": "[encoded data removed]"
          },
          "metadata": {},
          "execution_count": 41
        }
      ]
    },
    {
      "cell_type": "code",
      "source": [
        "img=image.load_img('/content/drive/MyDrive/Classroom/flowers/sunflower/1008566138_6927679c8a.jpg',target_size=(64,64))\n",
        "x=image.img_to_array(img)\n",
        "x=np.expand_dims(x,axis=0)\n",
        "pred=np.argmax(model.predict(x))\n",
        "op=['dandelion','rose','sunflower','tulip']\n",
        "op[pred]\n"
      ],
      "metadata": {
        "colab": {
          "base_uri": "https://localhost:8080/",
          "height": 36
        },
        "id": "3svgMA4FZXzx",
        "outputId": "cb27b847-29cd-4b2c-a331-b876207853a3"
      },
      "execution_count": 26,
      "outputs": [
        {
          "output_type": "execute_result",
          "data": {
            "text/plain": [
              "'rose'"
            ],
            "application/vnd.google.colaboratory.intrinsic+json": {
              "type": "string"
            }
          },
          "metadata": {},
          "execution_count": 26
        }
      ]
    },
    {
      "cell_type": "code",
      "source": [
        "img"
      ],
      "metadata": {
        "colab": {
          "base_uri": "https://localhost:8080/",
          "height": 81
        },
        "id": "0MZjyRxUZQsw",
        "outputId": "54bb0e66-0381-4817-f1dd-7341fbe871ad"
      },
      "execution_count": 27,
      "outputs": [
        {
          "output_type": "execute_result",
          "data": {
            "text/plain": [
              "<PIL.Image.Image image mode=RGB size=64x64 at 0x7FC61CE4A7D0>"
            ],
            "image/png": "[encoded data removed]"
          },
          "metadata": {},
          "execution_count": 27
        }
      ]
    },
    {
      "cell_type": "code",
      "source": [
        "img=image.load_img('/content/drive/MyDrive/Classroom/flowers/dandelion/33869330174_b259025135_n.jpg',target_size=(64,64))\n",
        "x=image.img_to_array(img)\n",
        "x=np.expand_dims(x,axis=0)\n",
        "pred=np.argmax(model.predict(x))\n",
        "op=['dandelion','rose','sunflower','tulip']\n",
        "op[pred]\n"
      ],
      "metadata": {
        "outputId": "9c36b473-9271-4a62-ea52-6b8854c95f57",
        "colab": {
          "base_uri": "https://localhost:8080/",
          "height": 36
        },
        "id": "VQVsGe-wbMBv"
      },
      "execution_count": 29,
      "outputs": [
        {
          "output_type": "execute_result",
          "data": {
            "text/plain": [
              "'sunflower'"
            ],
            "application/vnd.google.colaboratory.intrinsic+json": {
              "type": "string"
            }
          },
          "metadata": {},
          "execution_count": 29
        }
      ]
    },
    {
      "cell_type": "code",
      "source": [
        "img"
      ],
      "metadata": {
        "colab": {
          "base_uri": "https://localhost:8080/",
          "height": 81
        },
        "id": "8_uHNijobhqb",
        "outputId": "82e98a62-6d6a-49b1-95bd-f5a0a1343ddc"
      },
      "execution_count": 30,
      "outputs": [
        {
          "output_type": "execute_result",
          "data": {
            "text/plain": [
              "<PIL.Image.Image image mode=RGB size=64x64 at 0x7FC61D611450>"
            ],
            "image/png": "[encoded data removed]"
          },
          "metadata": {},
          "execution_count": 30
        }
      ]
    },
    {
      "cell_type": "code",
      "source": [
        "img=image.load_img('/content/drive/MyDrive/Classroom/flowers/tulip/10791227_7168491604.jpg',target_size=(64,64))\n",
        "x=image.img_to_array(img)\n",
        "x=np.expand_dims(x,axis=0)\n",
        "pred=np.argmax(model.predict(x))\n",
        "op=['dandelion','rose','sunflower','tulip']\n",
        "op[pred]\n"
      ],
      "metadata": {
        "outputId": "06c3013c-2b36-4e74-e4c1-872ad665c720",
        "colab": {
          "base_uri": "https://localhost:8080/",
          "height": 36
        },
        "id": "2TyDvcgFbMsM"
      },
      "execution_count": 32,
      "outputs": [
        {
          "output_type": "execute_result",
          "data": {
            "text/plain": [
              "'tulip'"
            ],
            "application/vnd.google.colaboratory.intrinsic+json": {
              "type": "string"
            }
          },
          "metadata": {},
          "execution_count": 32
        }
      ]
    },
    {
      "cell_type": "code",
      "source": [
        "img"
      ],
      "metadata": {
        "colab": {
          "base_uri": "https://localhost:8080/",
          "height": 81
        },
        "id": "diN2U59IbmL9",
        "outputId": "4518e359-0d9d-4e4e-98a4-155b310f9807"
      },
      "execution_count": 33,
      "outputs": [
        {
          "output_type": "execute_result",
          "data": {
            "text/plain": [
              "<PIL.Image.Image image mode=RGB size=64x64 at 0x7FC61CD60510>"
            ],
            "image/png": "[encoded data removed]"
          },
          "metadata": {},
          "execution_count": 33
        }
      ]
    },
    {
      "cell_type": "code",
      "source": [
        "x = image.img_to_array(img)\n",
        "x"
      ],
      "metadata": {
        "colab": {
          "base_uri": "https://localhost:8080/"
        },
        "id": "7ALTeLEZi6e3",
        "outputId": "1875b7a6-e035-4433-e519-80608266b7cc"
      },
      "execution_count": null,
      "outputs": [
        {
          "output_type": "execute_result",
          "data": {
            "text/plain": [
              "array([[[ 42.,  59.,  14.],\n",
              "        [ 46.,  61.,  18.],\n",
              "        [ 52.,  67.,  24.],\n",
              "        ...,\n",
              "        [ 39.,  60.,  21.],\n",
              "        [ 35.,  56.,  15.],\n",
              "        [ 37.,  54.,  22.]],\n",
              "\n",
              "       [[ 36.,  55.,   9.],\n",
              "        [ 44.,  61.,  17.],\n",
              "        [ 54.,  71.,  27.],\n",
              "        ...,\n",
              "        [ 42.,  60.,  20.],\n",
              "        [ 40.,  57.,  15.],\n",
              "        [ 40.,  56.,  20.]],\n",
              "\n",
              "       [[ 39.,  59.,   6.],\n",
              "        [ 37.,  58.,  15.],\n",
              "        [ 43.,  60.,  18.],\n",
              "        ...,\n",
              "        [ 45.,  64.,  19.],\n",
              "        [ 47.,  66.,  21.],\n",
              "        [ 44.,  60.,  23.]],\n",
              "\n",
              "       ...,\n",
              "\n",
              "       [[ 79., 101.,   0.],\n",
              "        [ 96., 121.,   4.],\n",
              "        [100., 121.,  26.],\n",
              "        ...,\n",
              "        [125., 109.,  58.],\n",
              "        [ 88., 111.,  29.],\n",
              "        [ 94., 115.,  10.]],\n",
              "\n",
              "       [[ 69.,  84.,   0.],\n",
              "        [ 77.,  97.,   0.],\n",
              "        [110., 135.,   8.],\n",
              "        ...,\n",
              "        [ 98.,  53.,  11.],\n",
              "        [130., 106.,  60.],\n",
              "        [123., 147.,  35.]],\n",
              "\n",
              "       [[ 47.,  68.,   0.],\n",
              "        [ 38.,  59.,   0.],\n",
              "        [ 89., 111.,   2.],\n",
              "        ...,\n",
              "        [ 71.,  61.,   2.],\n",
              "        [ 93.,  62.,  15.],\n",
              "        [116., 100.,  38.]]], dtype=float32)"
            ]
          },
          "metadata": {},
          "execution_count": 33
        }
      ]
    },
    {
      "cell_type": "code",
      "source": [
        "x = np.expand_dims(x,axis=0)\n",
        "x"
      ],
      "metadata": {
        "colab": {
          "base_uri": "https://localhost:8080/"
        },
        "id": "f4UgXmORjayI",
        "outputId": "2f45a200-58e6-42a9-9369-61730cb6e95f"
      },
      "execution_count": null,
      "outputs": [
        {
          "output_type": "execute_result",
          "data": {
            "text/plain": [
              "array([[[[ 42.,  59.,  14.],\n",
              "         [ 46.,  61.,  18.],\n",
              "         [ 52.,  67.,  24.],\n",
              "         ...,\n",
              "         [ 39.,  60.,  21.],\n",
              "         [ 35.,  56.,  15.],\n",
              "         [ 37.,  54.,  22.]],\n",
              "\n",
              "        [[ 36.,  55.,   9.],\n",
              "         [ 44.,  61.,  17.],\n",
              "         [ 54.,  71.,  27.],\n",
              "         ...,\n",
              "         [ 42.,  60.,  20.],\n",
              "         [ 40.,  57.,  15.],\n",
              "         [ 40.,  56.,  20.]],\n",
              "\n",
              "        [[ 39.,  59.,   6.],\n",
              "         [ 37.,  58.,  15.],\n",
              "         [ 43.,  60.,  18.],\n",
              "         ...,\n",
              "         [ 45.,  64.,  19.],\n",
              "         [ 47.,  66.,  21.],\n",
              "         [ 44.,  60.,  23.]],\n",
              "\n",
              "        ...,\n",
              "\n",
              "        [[ 79., 101.,   0.],\n",
              "         [ 96., 121.,   4.],\n",
              "         [100., 121.,  26.],\n",
              "         ...,\n",
              "         [125., 109.,  58.],\n",
              "         [ 88., 111.,  29.],\n",
              "         [ 94., 115.,  10.]],\n",
              "\n",
              "        [[ 69.,  84.,   0.],\n",
              "         [ 77.,  97.,   0.],\n",
              "         [110., 135.,   8.],\n",
              "         ...,\n",
              "         [ 98.,  53.,  11.],\n",
              "         [130., 106.,  60.],\n",
              "         [123., 147.,  35.]],\n",
              "\n",
              "        [[ 47.,  68.,   0.],\n",
              "         [ 38.,  59.,   0.],\n",
              "         [ 89., 111.,   2.],\n",
              "         ...,\n",
              "         [ 71.,  61.,   2.],\n",
              "         [ 93.,  62.,  15.],\n",
              "         [116., 100.,  38.]]]], dtype=float32)"
            ]
          },
          "metadata": {},
          "execution_count": 34
        }
      ]
    }
  ]
}